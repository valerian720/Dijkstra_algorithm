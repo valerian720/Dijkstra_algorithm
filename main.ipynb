{
  "nbformat": 4,
  "nbformat_minor": 0,
  "metadata": {
    "colab": {
      "name": "ЛР1: Алгоритм Дейкстры",
      "provenance": [],
      "collapsed_sections": [],
      "authorship_tag": "ABX9TyPkDgAFN0xW1wy6FqOn4nIA",
      "include_colab_link": true
    },
    "kernelspec": {
      "name": "python3",
      "display_name": "Python 3"
    },
    "language_info": {
      "name": "python"
    }
  },
  "cells": [
    {
      "cell_type": "markdown",
      "metadata": {
        "id": "view-in-github",
        "colab_type": "text"
      },
      "source": [
        "<a href=\"https://colab.research.google.com/github/valerian720/Dijkstra_algorithm/blob/main/main.ipynb\" target=\"_parent\"><img src=\"https://colab.research.google.com/assets/colab-badge.svg\" alt=\"Open In Colab\"/></a>"
      ]
    },
    {
      "cell_type": "markdown",
      "source": [
        "1. Создать программу, в которую подаётся на вход сторона квадрата X\n",
        "2. Х - количество ячеек в таблице, которая заполняется случайными числами.\n",
        "3. Числа представляют из себя стоимость перехода в указанную ячейку. Так, например, если в ячейке (0;1) стоит число 5, то стоимость попадания в ячейку (0;1) из ячеек (0;0), (0;2) и (1,1) равна 5. Пересекать границы квадрата запрещено.\n",
        "4. Найти путь от верхнего левого угла до правого нижнего и подать его на выход, реализовав метод поиска кратчайшего пути Дейкстры."
      ],
      "metadata": {
        "id": "ozMyZeyVkU7u"
      }
    },
    {
      "cell_type": "code",
      "source": [
        "import random\n",
        "import sys"
      ],
      "metadata": {
        "id": "XUWDZlsQmPIg"
      },
      "execution_count": null,
      "outputs": []
    },
    {
      "cell_type": "code",
      "execution_count": null,
      "metadata": {
        "id": "mpCJoaXJkS1u",
        "cellView": "form"
      },
      "outputs": [],
      "source": [
        "#@markdown input params\n",
        "square_side = 10 #@param {type: \"slider\", min: 1, max: 100}\n",
        "#@markdown random params\n",
        "random_from = 1 #@param {type: \"slider\", min: 1, max: 100}\n",
        "random_to = 10 #@param {type: \"slider\", min: 1, max: 100}\n",
        "\n",
        "infinite_int = sys.maxsize"
      ]
    },
    {
      "cell_type": "code",
      "source": [
        "class Knot(object):\n",
        "    \"\"\"knot data with pos on grid\"\"\"\n",
        "    \n",
        "    def __init__(self, x, y):\n",
        "      self.x = x\n",
        "      self.y = y\n",
        "\n",
        "    def __eq__(self, other):\n",
        "      return self.x == other.x and self.y == other.y\n",
        "      \n",
        "    def __str__(self):\n",
        "      return f\"|{self.x}-{self.y}|\"\n",
        "\n",
        "    def __repr__(self):\n",
        "      return self.__str__()"
      ],
      "metadata": {
        "id": "hy13Zm8a52-o"
      },
      "execution_count": null,
      "outputs": []
    },
    {
      "cell_type": "code",
      "source": [
        "def PrintGraph(graph):\n",
        "  for row in graph:\n",
        "    print(row)\n",
        "  print(\"\")"
      ],
      "metadata": {
        "id": "oZgeBmj7fe62"
      },
      "execution_count": null,
      "outputs": []
    },
    {
      "cell_type": "code",
      "source": [
        "# creacte square 2d array with random numbers\n",
        "graph = [[random.randint(random_from, random_to) for y in range(square_side) ] for x in range(square_side)]\n",
        "\n",
        "PrintGraph(graph)"
      ],
      "metadata": {
        "colab": {
          "base_uri": "https://localhost:8080/"
        },
        "id": "vC-d9XRckl9r",
        "outputId": "df225ae3-74d9-4ee7-ccdd-a5d7c76989ac"
      },
      "execution_count": null,
      "outputs": [
        {
          "output_type": "stream",
          "name": "stdout",
          "text": [
            "[7, 5, 2, 9, 1, 4, 6, 10, 1, 3]\n",
            "[10, 10, 4, 10, 9, 2, 10, 1, 3, 6]\n",
            "[5, 9, 3, 10, 8, 7, 5, 8, 7, 6]\n",
            "[2, 1, 1, 5, 3, 1, 9, 6, 3, 8]\n",
            "[4, 6, 2, 6, 10, 4, 10, 1, 6, 5]\n",
            "[9, 6, 5, 1, 5, 3, 4, 10, 10, 1]\n",
            "[6, 4, 8, 1, 6, 4, 1, 6, 8, 7]\n",
            "[2, 4, 6, 3, 6, 10, 2, 4, 2, 8]\n",
            "[3, 7, 3, 6, 4, 9, 3, 3, 3, 8]\n",
            "[10, 5, 8, 3, 2, 7, 8, 2, 10, 2]\n",
            "\n"
          ]
        }
      ]
    },
    {
      "cell_type": "code",
      "source": [
        "# Dijkstra`s algorythm\n",
        "# start: [0,0]\n",
        "# end: [square_side-1, square_side-1]\n",
        "\n",
        "selected_node = Knot(0,0)\n",
        "last_node = Knot(square_side-1,square_side-1)"
      ],
      "metadata": {
        "id": "oAo5UcuPoxXS"
      },
      "execution_count": null,
      "outputs": []
    },
    {
      "cell_type": "code",
      "source": [
        "def findNearCells(graph_size, knot):\n",
        "  ret = []\n",
        "  # look up\n",
        "  if knot.y > 0:\n",
        "    ret.append(Knot(knot.x,knot.y-1))\n",
        "  # look left\n",
        "  if knot.x > 0:\n",
        "    ret.append(Knot(knot.x-1,knot.y))\n",
        "  # look down\n",
        "  if knot.y < graph_size:\n",
        "    ret.append(Knot(knot.x,knot.y+1))\n",
        "  # look right\n",
        "  if knot.x < graph_size:\n",
        "    ret.append(Knot(knot.x+1,knot.y))\n",
        "  return ret"
      ],
      "metadata": {
        "id": "9qClFw8Y9kbB"
      },
      "execution_count": null,
      "outputs": []
    },
    {
      "cell_type": "code",
      "source": [
        "print(findNearCells(square_side-1, last_node))"
      ],
      "metadata": {
        "colab": {
          "base_uri": "https://localhost:8080/"
        },
        "id": "YRWszuj2_-YZ",
        "outputId": "c06ab388-f5bb-4940-8529-13b0b1e0e62f"
      },
      "execution_count": null,
      "outputs": [
        {
          "output_type": "stream",
          "name": "stdout",
          "text": [
            "[|9-8|, |8-9|]\n"
          ]
        }
      ]
    },
    {
      "cell_type": "code",
      "source": [
        "processing_buffer = [selected_node]\n",
        "\n",
        "graph_knots_weight = [[infinite_int for y in range(square_side) ] for x in range(square_side)]\n",
        "graph_knots_weight[0][0] = 0\n",
        "PrintGraph(graph_knots_weight)\n",
        "\n",
        "can_continue_cycle = True\n",
        "\n",
        "while can_continue_cycle:\n",
        "  can_continue_cycle = True\n",
        "  next_processed_buffer = []\n",
        "  for cur_processing in processing_buffer:\n",
        "    cur_value = graph_knots_weight[cur_processing.x][cur_processing.y]\n",
        "    for neigbor in findNearCells(square_side-1, cur_processing):\n",
        "\n",
        "      if graph_knots_weight[neigbor.x][neigbor.y] == infinite_int:\n",
        "        next_processed_buffer.append(neigbor)\n",
        "\n",
        "      if neigbor == last_node:\n",
        "        can_continue_cycle = False\n",
        "\n",
        "      graph_knots_weight[neigbor.x][neigbor.y] = min(graph_knots_weight[neigbor.x][neigbor.y], graph[neigbor.x][neigbor.y]+cur_value)\n",
        "      # print(\"processing\", neigbor)\n",
        "      # PrintGraph(graph_knots_weight)\n",
        "\n",
        "  processing_buffer = next_processed_buffer"
      ],
      "metadata": {
        "colab": {
          "base_uri": "https://localhost:8080/"
        },
        "id": "9H91hBX08Aap",
        "outputId": "bf975b19-5896-4f8c-a1fc-2184fbe8c004"
      },
      "execution_count": null,
      "outputs": [
        {
          "output_type": "stream",
          "name": "stdout",
          "text": [
            "[0, 9223372036854775807, 9223372036854775807, 9223372036854775807, 9223372036854775807, 9223372036854775807, 9223372036854775807, 9223372036854775807, 9223372036854775807, 9223372036854775807]\n",
            "[9223372036854775807, 9223372036854775807, 9223372036854775807, 9223372036854775807, 9223372036854775807, 9223372036854775807, 9223372036854775807, 9223372036854775807, 9223372036854775807, 9223372036854775807]\n",
            "[9223372036854775807, 9223372036854775807, 9223372036854775807, 9223372036854775807, 9223372036854775807, 9223372036854775807, 9223372036854775807, 9223372036854775807, 9223372036854775807, 9223372036854775807]\n",
            "[9223372036854775807, 9223372036854775807, 9223372036854775807, 9223372036854775807, 9223372036854775807, 9223372036854775807, 9223372036854775807, 9223372036854775807, 9223372036854775807, 9223372036854775807]\n",
            "[9223372036854775807, 9223372036854775807, 9223372036854775807, 9223372036854775807, 9223372036854775807, 9223372036854775807, 9223372036854775807, 9223372036854775807, 9223372036854775807, 9223372036854775807]\n",
            "[9223372036854775807, 9223372036854775807, 9223372036854775807, 9223372036854775807, 9223372036854775807, 9223372036854775807, 9223372036854775807, 9223372036854775807, 9223372036854775807, 9223372036854775807]\n",
            "[9223372036854775807, 9223372036854775807, 9223372036854775807, 9223372036854775807, 9223372036854775807, 9223372036854775807, 9223372036854775807, 9223372036854775807, 9223372036854775807, 9223372036854775807]\n",
            "[9223372036854775807, 9223372036854775807, 9223372036854775807, 9223372036854775807, 9223372036854775807, 9223372036854775807, 9223372036854775807, 9223372036854775807, 9223372036854775807, 9223372036854775807]\n",
            "[9223372036854775807, 9223372036854775807, 9223372036854775807, 9223372036854775807, 9223372036854775807, 9223372036854775807, 9223372036854775807, 9223372036854775807, 9223372036854775807, 9223372036854775807]\n",
            "[9223372036854775807, 9223372036854775807, 9223372036854775807, 9223372036854775807, 9223372036854775807, 9223372036854775807, 9223372036854775807, 9223372036854775807, 9223372036854775807, 9223372036854775807]\n",
            "\n"
          ]
        }
      ]
    },
    {
      "cell_type": "code",
      "source": [
        "PrintGraph(graph)\n",
        "PrintGraph(graph_knots_weight)"
      ],
      "metadata": {
        "colab": {
          "base_uri": "https://localhost:8080/"
        },
        "id": "UagDWoz1f_z1",
        "outputId": "719c41d9-5d90-4d8d-abe1-43fa65d7722f"
      },
      "execution_count": null,
      "outputs": [
        {
          "output_type": "stream",
          "name": "stdout",
          "text": [
            "[7, 5, 2, 9, 1, 4, 6, 10, 1, 3]\n",
            "[10, 10, 4, 10, 9, 2, 10, 1, 3, 6]\n",
            "[5, 9, 3, 10, 8, 7, 5, 8, 7, 6]\n",
            "[2, 1, 1, 5, 3, 1, 9, 6, 3, 8]\n",
            "[4, 6, 2, 6, 10, 4, 10, 1, 6, 5]\n",
            "[9, 6, 5, 1, 5, 3, 4, 10, 10, 1]\n",
            "[6, 4, 8, 1, 6, 4, 1, 6, 8, 7]\n",
            "[2, 4, 6, 3, 6, 10, 2, 4, 2, 8]\n",
            "[3, 7, 3, 6, 4, 9, 3, 3, 3, 8]\n",
            "[10, 5, 8, 3, 2, 7, 8, 2, 10, 2]\n",
            "\n",
            "[0, 5, 7, 16, 17, 21, 27, 37, 38, 41]\n",
            "[10, 15, 11, 21, 26, 23, 33, 34, 37, 43]\n",
            "[15, 23, 14, 24, 31, 30, 35, 42, 44, 49]\n",
            "[17, 16, 15, 20, 23, 24, 33, 39, 42, 50]\n",
            "[21, 23, 17, 23, 33, 28, 38, 39, 45, 50]\n",
            "[30, 28, 22, 23, 28, 31, 35, 45, 55, 51]\n",
            "[36, 34, 30, 24, 30, 34, 35, 41, 49, 56]\n",
            "[38, 38, 33, 27, 33, 43, 37, 41, 43, 51]\n",
            "[41, 45, 36, 33, 37, 46, 40, 43, 46, 54]\n",
            "[51, 50, 44, 36, 38, 45, 48, 45, 55, 56]\n",
            "\n"
          ]
        }
      ]
    },
    {
      "cell_type": "code",
      "source": [
        "def FindMin(weights, knot_list):\n",
        "  sel_knot = knot_list[0]\n",
        "  for knot in knot_list:\n",
        "    if weights[knot.x][knot.y] < weights[sel_knot.x][sel_knot.y]:\n",
        "      sel_knot = knot\n",
        "  return sel_knot"
      ],
      "metadata": {
        "id": "bG8bOiSpuX7N"
      },
      "execution_count": null,
      "outputs": []
    },
    {
      "cell_type": "code",
      "source": [
        "# collect the shortest way\n",
        "shortest_way = [last_node]\n",
        "can_continue_cycle = True\n",
        "\n",
        "cur_processing = last_node\n",
        "first_node = Knot(0,0)\n",
        "\n",
        "while can_continue_cycle:\n",
        "  can_continue_cycle = True\n",
        "  next_processed_buffer = []\n",
        "  knot_list = findNearCells(square_side-1, cur_processing)\n",
        "  sel_knot = knot_list[0]\n",
        "  for neigbor in knot_list:\n",
        "    if neigbor == first_node:\n",
        "      can_continue_cycle = False\n",
        "    if graph_knots_weight[neigbor.x][neigbor.y] < graph_knots_weight[sel_knot.x][sel_knot.y]:\n",
        "      sel_knot = neigbor\n",
        "  shortest_way.insert(0, sel_knot)\n",
        "  cur_processing = sel_knot\n",
        "\n",
        "print(shortest_way)"
      ],
      "metadata": {
        "colab": {
          "base_uri": "https://localhost:8080/"
        },
        "id": "JnaS8p8LUBYM",
        "outputId": "1877f3da-5bdb-4ced-a4d5-a130ca18713c"
      },
      "execution_count": null,
      "outputs": [
        {
          "output_type": "stream",
          "name": "stdout",
          "text": [
            "[|0-0|, |0-1|, |0-2|, |1-2|, |2-2|, |3-2|, |4-2|, |5-2|, |5-3|, |6-3|, |6-4|, |6-5|, |6-6|, |7-6|, |8-6|, |8-7|, |8-8|, |8-9|, |9-9|]\n"
          ]
        }
      ]
    },
    {
      "cell_type": "code",
      "source": [
        "def VisualizePath(path, size):\n",
        "  matrix = [[\".\" for y in range(size)] for x in range(size)]\n",
        "  for item in path:\n",
        "    matrix[item.x][item.y] = \"*\"\n",
        "  PrintGraph(matrix)\n",
        "\n",
        "VisualizePath(shortest_way, square_side)"
      ],
      "metadata": {
        "colab": {
          "base_uri": "https://localhost:8080/"
        },
        "id": "MrNnzITX0HQ8",
        "outputId": "61177401-4e2f-4a8e-f5ff-ddc62262c31a"
      },
      "execution_count": null,
      "outputs": [
        {
          "output_type": "stream",
          "name": "stdout",
          "text": [
            "['*', '*', '*', '.', '.', '.', '.', '.', '.', '.']\n",
            "['.', '.', '*', '.', '.', '.', '.', '.', '.', '.']\n",
            "['.', '.', '*', '.', '.', '.', '.', '.', '.', '.']\n",
            "['.', '.', '*', '.', '.', '.', '.', '.', '.', '.']\n",
            "['.', '.', '*', '.', '.', '.', '.', '.', '.', '.']\n",
            "['.', '.', '*', '*', '.', '.', '.', '.', '.', '.']\n",
            "['.', '.', '.', '*', '*', '*', '*', '.', '.', '.']\n",
            "['.', '.', '.', '.', '.', '.', '*', '.', '.', '.']\n",
            "['.', '.', '.', '.', '.', '.', '*', '*', '*', '*']\n",
            "['.', '.', '.', '.', '.', '.', '.', '.', '.', '*']\n",
            "\n"
          ]
        }
      ]
    }
  ]
}